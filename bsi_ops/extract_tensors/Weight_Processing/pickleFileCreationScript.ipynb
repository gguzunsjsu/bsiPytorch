{
 "cells": [
  {
   "cell_type": "code",
   "execution_count": 2,
   "metadata": {},
   "outputs": [],
   "source": [
    "import torch\n",
    "import numpy as np"
   ]
  },
  {
   "cell_type": "code",
   "execution_count": 23,
   "metadata": {},
   "outputs": [
    {
     "name": "stderr",
     "output_type": "stream",
     "text": [
      "/tmp/ipykernel_198892/2807752763.py:2: FutureWarning: You are using `torch.load` with `weights_only=False` (the current default value), which uses the default pickle module implicitly. It is possible to construct malicious pickle data which will execute arbitrary code during unpickling (See https://github.com/pytorch/pytorch/blob/main/SECURITY.md#untrusted-models for more details). In a future release, the default value for `weights_only` will be flipped to `True`. This limits the functions that could be executed during unpickling. Arbitrary objects will no longer be allowed to be loaded via this mode unless they are explicitly allowlisted by the user via `torch.serialization.add_safe_globals`. We recommend you start setting `weights_only=True` for any use case where you don't have full control of the loaded file. Please open an issue on GitHub for any issues related to this experimental feature.\n",
      "  model = torch.load(weight_path, map_location=mapping_location)\n"
     ]
    },
    {
     "name": "stdout",
     "output_type": "stream",
     "text": [
      "Number of encoder layers: 12\n"
     ]
    }
   ],
   "source": [
    "def loadModel(weight_path: str, mapping_location: str='cpu'):\n",
    "    model = torch.load(weight_path, map_location=mapping_location)\n",
    "    encoder_layers = model.bert.encoder.layer\n",
    "    print(f\"Number of encoder layers: {len(encoder_layers)}\")\n",
    "    return model\n",
    "\n",
    "if __name__==\"__main__\":\n",
    "    path = 'bert_imdb_weights_store/bert_imdb45.pth' # give the weight path\n",
    "    model_saved = loadModel(path)"
   ]
  },
  {
   "cell_type": "code",
   "execution_count": 24,
   "metadata": {},
   "outputs": [
    {
     "name": "stdout",
     "output_type": "stream",
     "text": [
      "Processing layer: 0\n",
      "Processing layer: 1\n",
      "Processing layer: 2\n",
      "Processing layer: 3\n",
      "Processing layer: 4\n",
      "Processing layer: 5\n",
      "Processing layer: 6\n",
      "Processing layer: 7\n",
      "Processing layer: 8\n",
      "Processing layer: 9\n",
      "Processing layer: 10\n",
      "Processing layer: 11\n",
      "Created triplets and created a pickle file\n"
     ]
    }
   ],
   "source": [
    "import pickle\n",
    "import os\n",
    "\n",
    "def min_max_normalize(tensor):\n",
    "    min_val = tensor.min()\n",
    "    max_val = tensor.max()\n",
    "    normalized_tensor = (tensor-min_val)/(max_val-min_val)\n",
    "    return normalized_tensor\n",
    "\n",
    "def extract_bert_tensor_weights(output_dir):\n",
    "    triplets = []\n",
    "    encoder_layers = model_saved.bert.encoder.layer\n",
    "    for layer_idx, layer in enumerate(encoder_layers):\n",
    "        print(f\"Processing layer: {layer_idx}\")\n",
    "\n",
    "        attention = layer.attention.self\n",
    "        #extracting query,key, and value weights\n",
    "        query_weights = attention.query.weight.detach().cpu().numpy()\n",
    "        key_weights = attention.key.weight.detach().cpu().numpy()\n",
    "        value_weights = attention.value.weight.detach().cpu().numpy()\n",
    "\n",
    "        # print(f\"query weights shape: {query_weights.shape}\")\n",
    "\n",
    "        batch_size = 53\n",
    "        sequence_length = 256\n",
    "        hidden_size = query_weights.shape[0]\n",
    "\n",
    "        q_result = np.zeros((batch_size, sequence_length, hidden_size), dtype=np.float32)\n",
    "        k_result = np.zeros((batch_size, sequence_length, hidden_size), dtype=np.float32)\n",
    "        v_result = np.zeros((batch_size, sequence_length, hidden_size), dtype=np.float32)\n",
    "\n",
    "        for i in range(batch_size):\n",
    "            for j in range(sequence_length):\n",
    "                q_result[i, j, :] = query_weights[:, j % hidden_size]\n",
    "                k_result[i, j, :] = key_weights[:, j % hidden_size]\n",
    "                v_result[i, j, :] = value_weights[:, j % hidden_size]\n",
    "        # print(f\"q_result shape: {q_result.shape}\")\n",
    "\n",
    "        q_normalized = min_max_normalize(q_result)\n",
    "        k_normalized = min_max_normalize(k_result)\n",
    "        v_normalized = min_max_normalize(v_result)\n",
    "\n",
    "        q_flat_vector = q_normalized.reshape(-1)\n",
    "        # print(f\"Checking flat vector size of q: {type(q_flat_vector)}\")\n",
    "        k_flat_vector = k_normalized.reshape(-1)\n",
    "        # print(f\"Checking flat vector size of k: {type(k_flat_vector)}\")\n",
    "        v_flat_vector = v_normalized.reshape(-1)\n",
    "        # print(f\"Checking flat vector size of v: {type(v_flat_vector)}\")\n",
    "\n",
    "        triplets.append((q_flat_vector, k_flat_vector, v_flat_vector))\n",
    "    \n",
    "    output_file = os.path.join(output_dir,'bert_imdb_pickle_store/bert_imdb45.pkl')\n",
    "    with open(output_file, 'wb') as f:\n",
    "        pickle.dump(triplets, f)\n",
    "    print(f\"Created triplets and created a pickle file\")\n",
    "\n",
    "if __name__==\"__main__\":\n",
    "    output_dir = ''\n",
    "    num_hidden_layers = 12\n",
    "    extract_bert_tensor_weights(output_dir=output_dir)"
   ]
  }
 ],
 "metadata": {
  "kernelspec": {
   "display_name": "bsi_env",
   "language": "python",
   "name": "python3"
  },
  "language_info": {
   "codemirror_mode": {
    "name": "ipython",
    "version": 3
   },
   "file_extension": ".py",
   "mimetype": "text/x-python",
   "name": "python",
   "nbconvert_exporter": "python",
   "pygments_lexer": "ipython3",
   "version": "3.12.4"
  }
 },
 "nbformat": 4,
 "nbformat_minor": 2
}
